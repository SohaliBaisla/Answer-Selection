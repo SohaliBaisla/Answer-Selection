{
  "cells": [
    {
      "cell_type": "markdown",
      "metadata": {
        "id": "view-in-github",
        "colab_type": "text"
      },
      "source": [
        "<a href=\"https://colab.research.google.com/github/SohaliBaisla/Answer-Selection/blob/main/Answer_Selection_DL.ipynb\" target=\"_parent\"><img src=\"https://colab.research.google.com/assets/colab-badge.svg\" alt=\"Open In Colab\"/></a>"
      ]
    },
    {
      "cell_type": "code",
      "execution_count": 1,
      "metadata": {
        "id": "9a8YeAZv8jjT"
      },
      "outputs": [],
      "source": [
        "import numpy as np\n",
        "import pandas as pd"
      ]
    },
    {
      "cell_type": "code",
      "execution_count": 2,
      "metadata": {
        "colab": {
          "base_uri": "https://localhost:8080/"
        },
        "id": "dFSJcxrzupuj",
        "outputId": "017e9f4b-6568-42d7-fe02-7e477c728624"
      },
      "outputs": [
        {
          "output_type": "stream",
          "name": "stdout",
          "text": [
            "Mounted at /content/drive\n"
          ]
        }
      ],
      "source": [
        "from google.colab import drive\n",
        "drive.mount('/conatent/drive')"
      ]
    },
    {
      "cell_type": "code",
      "execution_count": 3,
      "metadata": {
        "id": "jbfUyTtIuxkM"
      },
      "outputs": [],
      "source": [
        "data=pd.read_csv(\"/content/drive/MyDrive/Dataset/SQuAD_csv.csv\")"
      ]
    },
    {
      "cell_type": "code",
      "execution_count": 4,
      "metadata": {
        "colab": {
          "base_uri": "https://localhost:8080/",
          "height": 589
        },
        "id": "Btf_vJwevzqt",
        "outputId": "9064b27f-abdc-4a28-d84d-3ecf2e0e572b"
      },
      "outputs": [
        {
          "output_type": "execute_result",
          "data": {
            "text/plain": [
              "       Unnamed: 0                                            context  \\\n",
              "0               0  Beyoncé Giselle Knowles-Carter (/biːˈjɒnseɪ/ b...   \n",
              "1               1  Beyoncé Giselle Knowles-Carter (/biːˈjɒnseɪ/ b...   \n",
              "2               2  Beyoncé Giselle Knowles-Carter (/biːˈjɒnseɪ/ b...   \n",
              "3               3  Beyoncé Giselle Knowles-Carter (/biːˈjɒnseɪ/ b...   \n",
              "4               4  Beyoncé Giselle Knowles-Carter (/biːˈjɒnseɪ/ b...   \n",
              "...           ...                                                ...   \n",
              "86816         271  Kathmandu Metropolitan City (KMC), in order to...   \n",
              "86817         272  Kathmandu Metropolitan City (KMC), in order to...   \n",
              "86818         273  Kathmandu Metropolitan City (KMC), in order to...   \n",
              "86819         274  Kathmandu Metropolitan City (KMC), in order to...   \n",
              "86820         275  Kathmandu Metropolitan City (KMC), in order to...   \n",
              "\n",
              "                                                question  \\\n",
              "0               When did Beyonce start becoming popular?   \n",
              "1      What areas did Beyonce compete in when she was...   \n",
              "2      When did Beyonce leave Destiny's Child and bec...   \n",
              "3          In what city and state did Beyonce  grow up?    \n",
              "4             In which decade did Beyonce become famous?   \n",
              "...                                                  ...   \n",
              "86816  In what US state did Kathmandu first establish...   \n",
              "86817               What was Yangon previously known as?   \n",
              "86818  With what Belorussian city does Kathmandu have...   \n",
              "86819  In what year did Kathmandu create its initial ...   \n",
              "86820                      What is KMC an initialism of?   \n",
              "\n",
              "                             id  answer_start                         text  \n",
              "0      56be85543aeaaa14008c9063           269            in the late 1990s  \n",
              "1      56be85543aeaaa14008c9065           207          singing and dancing  \n",
              "2      56be85543aeaaa14008c9066           526                         2003  \n",
              "3      56bf6b0f3aeaaa14008c9601           166               Houston, Texas  \n",
              "4      56bf6b0f3aeaaa14008c9602           276                   late 1990s  \n",
              "...                         ...           ...                          ...  \n",
              "86816  5735d259012e2f140011a09d           229                       Oregon  \n",
              "86817  5735d259012e2f140011a09e           414                      Rangoon  \n",
              "86818  5735d259012e2f140011a09f           476                        Minsk  \n",
              "86819  5735d259012e2f140011a0a0           199                         1975  \n",
              "86820  5735d259012e2f140011a0a1             0  Kathmandu Metropolitan City  \n",
              "\n",
              "[86821 rows x 6 columns]"
            ],
            "text/html": [
              "\n",
              "  <div id=\"df-faf45427-7a97-4d75-af70-1c405fab0461\">\n",
              "    <div class=\"colab-df-container\">\n",
              "      <div>\n",
              "<style scoped>\n",
              "    .dataframe tbody tr th:only-of-type {\n",
              "        vertical-align: middle;\n",
              "    }\n",
              "\n",
              "    .dataframe tbody tr th {\n",
              "        vertical-align: top;\n",
              "    }\n",
              "\n",
              "    .dataframe thead th {\n",
              "        text-align: right;\n",
              "    }\n",
              "</style>\n",
              "<table border=\"1\" class=\"dataframe\">\n",
              "  <thead>\n",
              "    <tr style=\"text-align: right;\">\n",
              "      <th></th>\n",
              "      <th>Unnamed: 0</th>\n",
              "      <th>context</th>\n",
              "      <th>question</th>\n",
              "      <th>id</th>\n",
              "      <th>answer_start</th>\n",
              "      <th>text</th>\n",
              "    </tr>\n",
              "  </thead>\n",
              "  <tbody>\n",
              "    <tr>\n",
              "      <th>0</th>\n",
              "      <td>0</td>\n",
              "      <td>Beyoncé Giselle Knowles-Carter (/biːˈjɒnseɪ/ b...</td>\n",
              "      <td>When did Beyonce start becoming popular?</td>\n",
              "      <td>56be85543aeaaa14008c9063</td>\n",
              "      <td>269</td>\n",
              "      <td>in the late 1990s</td>\n",
              "    </tr>\n",
              "    <tr>\n",
              "      <th>1</th>\n",
              "      <td>1</td>\n",
              "      <td>Beyoncé Giselle Knowles-Carter (/biːˈjɒnseɪ/ b...</td>\n",
              "      <td>What areas did Beyonce compete in when she was...</td>\n",
              "      <td>56be85543aeaaa14008c9065</td>\n",
              "      <td>207</td>\n",
              "      <td>singing and dancing</td>\n",
              "    </tr>\n",
              "    <tr>\n",
              "      <th>2</th>\n",
              "      <td>2</td>\n",
              "      <td>Beyoncé Giselle Knowles-Carter (/biːˈjɒnseɪ/ b...</td>\n",
              "      <td>When did Beyonce leave Destiny's Child and bec...</td>\n",
              "      <td>56be85543aeaaa14008c9066</td>\n",
              "      <td>526</td>\n",
              "      <td>2003</td>\n",
              "    </tr>\n",
              "    <tr>\n",
              "      <th>3</th>\n",
              "      <td>3</td>\n",
              "      <td>Beyoncé Giselle Knowles-Carter (/biːˈjɒnseɪ/ b...</td>\n",
              "      <td>In what city and state did Beyonce  grow up?</td>\n",
              "      <td>56bf6b0f3aeaaa14008c9601</td>\n",
              "      <td>166</td>\n",
              "      <td>Houston, Texas</td>\n",
              "    </tr>\n",
              "    <tr>\n",
              "      <th>4</th>\n",
              "      <td>4</td>\n",
              "      <td>Beyoncé Giselle Knowles-Carter (/biːˈjɒnseɪ/ b...</td>\n",
              "      <td>In which decade did Beyonce become famous?</td>\n",
              "      <td>56bf6b0f3aeaaa14008c9602</td>\n",
              "      <td>276</td>\n",
              "      <td>late 1990s</td>\n",
              "    </tr>\n",
              "    <tr>\n",
              "      <th>...</th>\n",
              "      <td>...</td>\n",
              "      <td>...</td>\n",
              "      <td>...</td>\n",
              "      <td>...</td>\n",
              "      <td>...</td>\n",
              "      <td>...</td>\n",
              "    </tr>\n",
              "    <tr>\n",
              "      <th>86816</th>\n",
              "      <td>271</td>\n",
              "      <td>Kathmandu Metropolitan City (KMC), in order to...</td>\n",
              "      <td>In what US state did Kathmandu first establish...</td>\n",
              "      <td>5735d259012e2f140011a09d</td>\n",
              "      <td>229</td>\n",
              "      <td>Oregon</td>\n",
              "    </tr>\n",
              "    <tr>\n",
              "      <th>86817</th>\n",
              "      <td>272</td>\n",
              "      <td>Kathmandu Metropolitan City (KMC), in order to...</td>\n",
              "      <td>What was Yangon previously known as?</td>\n",
              "      <td>5735d259012e2f140011a09e</td>\n",
              "      <td>414</td>\n",
              "      <td>Rangoon</td>\n",
              "    </tr>\n",
              "    <tr>\n",
              "      <th>86818</th>\n",
              "      <td>273</td>\n",
              "      <td>Kathmandu Metropolitan City (KMC), in order to...</td>\n",
              "      <td>With what Belorussian city does Kathmandu have...</td>\n",
              "      <td>5735d259012e2f140011a09f</td>\n",
              "      <td>476</td>\n",
              "      <td>Minsk</td>\n",
              "    </tr>\n",
              "    <tr>\n",
              "      <th>86819</th>\n",
              "      <td>274</td>\n",
              "      <td>Kathmandu Metropolitan City (KMC), in order to...</td>\n",
              "      <td>In what year did Kathmandu create its initial ...</td>\n",
              "      <td>5735d259012e2f140011a0a0</td>\n",
              "      <td>199</td>\n",
              "      <td>1975</td>\n",
              "    </tr>\n",
              "    <tr>\n",
              "      <th>86820</th>\n",
              "      <td>275</td>\n",
              "      <td>Kathmandu Metropolitan City (KMC), in order to...</td>\n",
              "      <td>What is KMC an initialism of?</td>\n",
              "      <td>5735d259012e2f140011a0a1</td>\n",
              "      <td>0</td>\n",
              "      <td>Kathmandu Metropolitan City</td>\n",
              "    </tr>\n",
              "  </tbody>\n",
              "</table>\n",
              "<p>86821 rows × 6 columns</p>\n",
              "</div>\n",
              "      <button class=\"colab-df-convert\" onclick=\"convertToInteractive('df-faf45427-7a97-4d75-af70-1c405fab0461')\"\n",
              "              title=\"Convert this dataframe to an interactive table.\"\n",
              "              style=\"display:none;\">\n",
              "        \n",
              "  <svg xmlns=\"http://www.w3.org/2000/svg\" height=\"24px\"viewBox=\"0 0 24 24\"\n",
              "       width=\"24px\">\n",
              "    <path d=\"M0 0h24v24H0V0z\" fill=\"none\"/>\n",
              "    <path d=\"M18.56 5.44l.94 2.06.94-2.06 2.06-.94-2.06-.94-.94-2.06-.94 2.06-2.06.94zm-11 1L8.5 8.5l.94-2.06 2.06-.94-2.06-.94L8.5 2.5l-.94 2.06-2.06.94zm10 10l.94 2.06.94-2.06 2.06-.94-2.06-.94-.94-2.06-.94 2.06-2.06.94z\"/><path d=\"M17.41 7.96l-1.37-1.37c-.4-.4-.92-.59-1.43-.59-.52 0-1.04.2-1.43.59L10.3 9.45l-7.72 7.72c-.78.78-.78 2.05 0 2.83L4 21.41c.39.39.9.59 1.41.59.51 0 1.02-.2 1.41-.59l7.78-7.78 2.81-2.81c.8-.78.8-2.07 0-2.86zM5.41 20L4 18.59l7.72-7.72 1.47 1.35L5.41 20z\"/>\n",
              "  </svg>\n",
              "      </button>\n",
              "      \n",
              "  <style>\n",
              "    .colab-df-container {\n",
              "      display:flex;\n",
              "      flex-wrap:wrap;\n",
              "      gap: 12px;\n",
              "    }\n",
              "\n",
              "    .colab-df-convert {\n",
              "      background-color: #E8F0FE;\n",
              "      border: none;\n",
              "      border-radius: 50%;\n",
              "      cursor: pointer;\n",
              "      display: none;\n",
              "      fill: #1967D2;\n",
              "      height: 32px;\n",
              "      padding: 0 0 0 0;\n",
              "      width: 32px;\n",
              "    }\n",
              "\n",
              "    .colab-df-convert:hover {\n",
              "      background-color: #E2EBFA;\n",
              "      box-shadow: 0px 1px 2px rgba(60, 64, 67, 0.3), 0px 1px 3px 1px rgba(60, 64, 67, 0.15);\n",
              "      fill: #174EA6;\n",
              "    }\n",
              "\n",
              "    [theme=dark] .colab-df-convert {\n",
              "      background-color: #3B4455;\n",
              "      fill: #D2E3FC;\n",
              "    }\n",
              "\n",
              "    [theme=dark] .colab-df-convert:hover {\n",
              "      background-color: #434B5C;\n",
              "      box-shadow: 0px 1px 3px 1px rgba(0, 0, 0, 0.15);\n",
              "      filter: drop-shadow(0px 1px 2px rgba(0, 0, 0, 0.3));\n",
              "      fill: #FFFFFF;\n",
              "    }\n",
              "  </style>\n",
              "\n",
              "      <script>\n",
              "        const buttonEl =\n",
              "          document.querySelector('#df-faf45427-7a97-4d75-af70-1c405fab0461 button.colab-df-convert');\n",
              "        buttonEl.style.display =\n",
              "          google.colab.kernel.accessAllowed ? 'block' : 'none';\n",
              "\n",
              "        async function convertToInteractive(key) {\n",
              "          const element = document.querySelector('#df-faf45427-7a97-4d75-af70-1c405fab0461');\n",
              "          const dataTable =\n",
              "            await google.colab.kernel.invokeFunction('convertToInteractive',\n",
              "                                                     [key], {});\n",
              "          if (!dataTable) return;\n",
              "\n",
              "          const docLinkHtml = 'Like what you see? Visit the ' +\n",
              "            '<a target=\"_blank\" href=https://colab.research.google.com/notebooks/data_table.ipynb>data table notebook</a>'\n",
              "            + ' to learn more about interactive tables.';\n",
              "          element.innerHTML = '';\n",
              "          dataTable['output_type'] = 'display_data';\n",
              "          await google.colab.output.renderOutput(dataTable, element);\n",
              "          const docLink = document.createElement('div');\n",
              "          docLink.innerHTML = docLinkHtml;\n",
              "          element.appendChild(docLink);\n",
              "        }\n",
              "      </script>\n",
              "    </div>\n",
              "  </div>\n",
              "  "
            ]
          },
          "metadata": {},
          "execution_count": 4
        }
      ],
      "source": [
        "data"
      ]
    },
    {
      "cell_type": "code",
      "execution_count": 5,
      "metadata": {
        "colab": {
          "base_uri": "https://localhost:8080/"
        },
        "id": "P_-lTD6Iv_kX",
        "outputId": "a0360def-91c3-44e3-d90c-1cf5e2f2ea17"
      },
      "outputs": [
        {
          "output_type": "stream",
          "name": "stderr",
          "text": [
            "[nltk_data] Downloading package stopwords to /root/nltk_data...\n",
            "[nltk_data]   Unzipping corpora/stopwords.zip.\n"
          ]
        },
        {
          "output_type": "execute_result",
          "data": {
            "text/plain": [
              "True"
            ]
          },
          "metadata": {},
          "execution_count": 5
        }
      ],
      "source": [
        "import nltk\n",
        "import re\n",
        "from nltk.corpus import stopwords\n",
        "nltk.download('stopwords')"
      ]
    },
    {
      "cell_type": "code",
      "execution_count": 6,
      "metadata": {
        "id": "dAELuR0x6t-c"
      },
      "outputs": [],
      "source": [
        "stopwords = nltk.corpus.stopwords.words('english')"
      ]
    },
    {
      "cell_type": "code",
      "execution_count": 7,
      "metadata": {
        "id": "EbQ9nmsjxmlh"
      },
      "outputs": [],
      "source": [
        "def clean_text(text):\n",
        "    text = text.lower()\n",
        "    text = re.sub(r'[^0-9a-zA-Z]', ' ', text)\n",
        "    text = re.sub(r'\\s+', ' ', text)\n",
        "    text = \" \".join(word for word in text.split() if word not in stopwords)\n",
        "    return text"
      ]
    },
    {
      "cell_type": "code",
      "execution_count": 8,
      "metadata": {
        "colab": {
          "base_uri": "https://localhost:8080/",
          "height": 206
        },
        "id": "bTUyl6D5xoyA",
        "outputId": "ae88e77a-de0b-4a49-f976-2ccf58468111"
      },
      "outputs": [
        {
          "output_type": "execute_result",
          "data": {
            "text/plain": [
              "   Unnamed: 0                                            context  \\\n",
              "0           0  beyonc giselle knowles carter bi j nse bee yon...   \n",
              "1           1  beyonc giselle knowles carter bi j nse bee yon...   \n",
              "2           2  beyonc giselle knowles carter bi j nse bee yon...   \n",
              "3           3  beyonc giselle knowles carter bi j nse bee yon...   \n",
              "4           4  beyonc giselle knowles carter bi j nse bee yon...   \n",
              "\n",
              "                                            question  \\\n",
              "0           When did Beyonce start becoming popular?   \n",
              "1  What areas did Beyonce compete in when she was...   \n",
              "2  When did Beyonce leave Destiny's Child and bec...   \n",
              "3      In what city and state did Beyonce  grow up?    \n",
              "4         In which decade did Beyonce become famous?   \n",
              "\n",
              "                         id  answer_start                 text  \n",
              "0  56be85543aeaaa14008c9063           269    in the late 1990s  \n",
              "1  56be85543aeaaa14008c9065           207  singing and dancing  \n",
              "2  56be85543aeaaa14008c9066           526                 2003  \n",
              "3  56bf6b0f3aeaaa14008c9601           166       Houston, Texas  \n",
              "4  56bf6b0f3aeaaa14008c9602           276           late 1990s  "
            ],
            "text/html": [
              "\n",
              "  <div id=\"df-06924be0-845f-4b2f-b459-fb2f8d9e95b0\">\n",
              "    <div class=\"colab-df-container\">\n",
              "      <div>\n",
              "<style scoped>\n",
              "    .dataframe tbody tr th:only-of-type {\n",
              "        vertical-align: middle;\n",
              "    }\n",
              "\n",
              "    .dataframe tbody tr th {\n",
              "        vertical-align: top;\n",
              "    }\n",
              "\n",
              "    .dataframe thead th {\n",
              "        text-align: right;\n",
              "    }\n",
              "</style>\n",
              "<table border=\"1\" class=\"dataframe\">\n",
              "  <thead>\n",
              "    <tr style=\"text-align: right;\">\n",
              "      <th></th>\n",
              "      <th>Unnamed: 0</th>\n",
              "      <th>context</th>\n",
              "      <th>question</th>\n",
              "      <th>id</th>\n",
              "      <th>answer_start</th>\n",
              "      <th>text</th>\n",
              "    </tr>\n",
              "  </thead>\n",
              "  <tbody>\n",
              "    <tr>\n",
              "      <th>0</th>\n",
              "      <td>0</td>\n",
              "      <td>beyonc giselle knowles carter bi j nse bee yon...</td>\n",
              "      <td>When did Beyonce start becoming popular?</td>\n",
              "      <td>56be85543aeaaa14008c9063</td>\n",
              "      <td>269</td>\n",
              "      <td>in the late 1990s</td>\n",
              "    </tr>\n",
              "    <tr>\n",
              "      <th>1</th>\n",
              "      <td>1</td>\n",
              "      <td>beyonc giselle knowles carter bi j nse bee yon...</td>\n",
              "      <td>What areas did Beyonce compete in when she was...</td>\n",
              "      <td>56be85543aeaaa14008c9065</td>\n",
              "      <td>207</td>\n",
              "      <td>singing and dancing</td>\n",
              "    </tr>\n",
              "    <tr>\n",
              "      <th>2</th>\n",
              "      <td>2</td>\n",
              "      <td>beyonc giselle knowles carter bi j nse bee yon...</td>\n",
              "      <td>When did Beyonce leave Destiny's Child and bec...</td>\n",
              "      <td>56be85543aeaaa14008c9066</td>\n",
              "      <td>526</td>\n",
              "      <td>2003</td>\n",
              "    </tr>\n",
              "    <tr>\n",
              "      <th>3</th>\n",
              "      <td>3</td>\n",
              "      <td>beyonc giselle knowles carter bi j nse bee yon...</td>\n",
              "      <td>In what city and state did Beyonce  grow up?</td>\n",
              "      <td>56bf6b0f3aeaaa14008c9601</td>\n",
              "      <td>166</td>\n",
              "      <td>Houston, Texas</td>\n",
              "    </tr>\n",
              "    <tr>\n",
              "      <th>4</th>\n",
              "      <td>4</td>\n",
              "      <td>beyonc giselle knowles carter bi j nse bee yon...</td>\n",
              "      <td>In which decade did Beyonce become famous?</td>\n",
              "      <td>56bf6b0f3aeaaa14008c9602</td>\n",
              "      <td>276</td>\n",
              "      <td>late 1990s</td>\n",
              "    </tr>\n",
              "  </tbody>\n",
              "</table>\n",
              "</div>\n",
              "      <button class=\"colab-df-convert\" onclick=\"convertToInteractive('df-06924be0-845f-4b2f-b459-fb2f8d9e95b0')\"\n",
              "              title=\"Convert this dataframe to an interactive table.\"\n",
              "              style=\"display:none;\">\n",
              "        \n",
              "  <svg xmlns=\"http://www.w3.org/2000/svg\" height=\"24px\"viewBox=\"0 0 24 24\"\n",
              "       width=\"24px\">\n",
              "    <path d=\"M0 0h24v24H0V0z\" fill=\"none\"/>\n",
              "    <path d=\"M18.56 5.44l.94 2.06.94-2.06 2.06-.94-2.06-.94-.94-2.06-.94 2.06-2.06.94zm-11 1L8.5 8.5l.94-2.06 2.06-.94-2.06-.94L8.5 2.5l-.94 2.06-2.06.94zm10 10l.94 2.06.94-2.06 2.06-.94-2.06-.94-.94-2.06-.94 2.06-2.06.94z\"/><path d=\"M17.41 7.96l-1.37-1.37c-.4-.4-.92-.59-1.43-.59-.52 0-1.04.2-1.43.59L10.3 9.45l-7.72 7.72c-.78.78-.78 2.05 0 2.83L4 21.41c.39.39.9.59 1.41.59.51 0 1.02-.2 1.41-.59l7.78-7.78 2.81-2.81c.8-.78.8-2.07 0-2.86zM5.41 20L4 18.59l7.72-7.72 1.47 1.35L5.41 20z\"/>\n",
              "  </svg>\n",
              "      </button>\n",
              "      \n",
              "  <style>\n",
              "    .colab-df-container {\n",
              "      display:flex;\n",
              "      flex-wrap:wrap;\n",
              "      gap: 12px;\n",
              "    }\n",
              "\n",
              "    .colab-df-convert {\n",
              "      background-color: #E8F0FE;\n",
              "      border: none;\n",
              "      border-radius: 50%;\n",
              "      cursor: pointer;\n",
              "      display: none;\n",
              "      fill: #1967D2;\n",
              "      height: 32px;\n",
              "      padding: 0 0 0 0;\n",
              "      width: 32px;\n",
              "    }\n",
              "\n",
              "    .colab-df-convert:hover {\n",
              "      background-color: #E2EBFA;\n",
              "      box-shadow: 0px 1px 2px rgba(60, 64, 67, 0.3), 0px 1px 3px 1px rgba(60, 64, 67, 0.15);\n",
              "      fill: #174EA6;\n",
              "    }\n",
              "\n",
              "    [theme=dark] .colab-df-convert {\n",
              "      background-color: #3B4455;\n",
              "      fill: #D2E3FC;\n",
              "    }\n",
              "\n",
              "    [theme=dark] .colab-df-convert:hover {\n",
              "      background-color: #434B5C;\n",
              "      box-shadow: 0px 1px 3px 1px rgba(0, 0, 0, 0.15);\n",
              "      filter: drop-shadow(0px 1px 2px rgba(0, 0, 0, 0.3));\n",
              "      fill: #FFFFFF;\n",
              "    }\n",
              "  </style>\n",
              "\n",
              "      <script>\n",
              "        const buttonEl =\n",
              "          document.querySelector('#df-06924be0-845f-4b2f-b459-fb2f8d9e95b0 button.colab-df-convert');\n",
              "        buttonEl.style.display =\n",
              "          google.colab.kernel.accessAllowed ? 'block' : 'none';\n",
              "\n",
              "        async function convertToInteractive(key) {\n",
              "          const element = document.querySelector('#df-06924be0-845f-4b2f-b459-fb2f8d9e95b0');\n",
              "          const dataTable =\n",
              "            await google.colab.kernel.invokeFunction('convertToInteractive',\n",
              "                                                     [key], {});\n",
              "          if (!dataTable) return;\n",
              "\n",
              "          const docLinkHtml = 'Like what you see? Visit the ' +\n",
              "            '<a target=\"_blank\" href=https://colab.research.google.com/notebooks/data_table.ipynb>data table notebook</a>'\n",
              "            + ' to learn more about interactive tables.';\n",
              "          element.innerHTML = '';\n",
              "          dataTable['output_type'] = 'display_data';\n",
              "          await google.colab.output.renderOutput(dataTable, element);\n",
              "          const docLink = document.createElement('div');\n",
              "          docLink.innerHTML = docLinkHtml;\n",
              "          element.appendChild(docLink);\n",
              "        }\n",
              "      </script>\n",
              "    </div>\n",
              "  </div>\n",
              "  "
            ]
          },
          "metadata": {},
          "execution_count": 8
        }
      ],
      "source": [
        "data['context'] = data['context'].apply(clean_text)\n",
        "data.head()"
      ]
    },
    {
      "cell_type": "code",
      "execution_count": 9,
      "metadata": {
        "id": "bP02v5mmx1an"
      },
      "outputs": [],
      "source": [
        "def get_target(x):\n",
        "    idx = -1\n",
        "    for i in range(len(x[\"sentences\"])):\n",
        "        if x[\"text\"] in x[\"sentences\"][i]: idx = i\n",
        "    return idx"
      ]
    },
    {
      "cell_type": "code",
      "execution_count": 10,
      "metadata": {
        "colab": {
          "base_uri": "https://localhost:8080/",
          "height": 206
        },
        "id": "HELXFUM-8Ew3",
        "outputId": "a6839836-77cf-4997-b945-4821e8464f39"
      },
      "outputs": [
        {
          "output_type": "execute_result",
          "data": {
            "text/plain": [
              "   Unnamed: 0                                            context  \\\n",
              "0           0  beyonc giselle knowles carter bi j nse bee yon...   \n",
              "1           1  beyonc giselle knowles carter bi j nse bee yon...   \n",
              "2           2  beyonc giselle knowles carter bi j nse bee yon...   \n",
              "3           3  beyonc giselle knowles carter bi j nse bee yon...   \n",
              "4           4  beyonc giselle knowles carter bi j nse bee yon...   \n",
              "\n",
              "                                            question  \\\n",
              "0           When did Beyonce start becoming popular?   \n",
              "1  What areas did Beyonce compete in when she was...   \n",
              "2  When did Beyonce leave Destiny's Child and bec...   \n",
              "3      In what city and state did Beyonce  grow up?    \n",
              "4         In which decade did Beyonce become famous?   \n",
              "\n",
              "                         id  answer_start                 text  \n",
              "0  56be85543aeaaa14008c9063           269    in the late 1990s  \n",
              "1  56be85543aeaaa14008c9065           207  singing and dancing  \n",
              "2  56be85543aeaaa14008c9066           526                 2003  \n",
              "3  56bf6b0f3aeaaa14008c9601           166       Houston, Texas  \n",
              "4  56bf6b0f3aeaaa14008c9602           276           late 1990s  "
            ],
            "text/html": [
              "\n",
              "  <div id=\"df-93f50f20-0dc1-4695-b7c8-3a8c0f0a78bb\">\n",
              "    <div class=\"colab-df-container\">\n",
              "      <div>\n",
              "<style scoped>\n",
              "    .dataframe tbody tr th:only-of-type {\n",
              "        vertical-align: middle;\n",
              "    }\n",
              "\n",
              "    .dataframe tbody tr th {\n",
              "        vertical-align: top;\n",
              "    }\n",
              "\n",
              "    .dataframe thead th {\n",
              "        text-align: right;\n",
              "    }\n",
              "</style>\n",
              "<table border=\"1\" class=\"dataframe\">\n",
              "  <thead>\n",
              "    <tr style=\"text-align: right;\">\n",
              "      <th></th>\n",
              "      <th>Unnamed: 0</th>\n",
              "      <th>context</th>\n",
              "      <th>question</th>\n",
              "      <th>id</th>\n",
              "      <th>answer_start</th>\n",
              "      <th>text</th>\n",
              "    </tr>\n",
              "  </thead>\n",
              "  <tbody>\n",
              "    <tr>\n",
              "      <th>0</th>\n",
              "      <td>0</td>\n",
              "      <td>beyonc giselle knowles carter bi j nse bee yon...</td>\n",
              "      <td>When did Beyonce start becoming popular?</td>\n",
              "      <td>56be85543aeaaa14008c9063</td>\n",
              "      <td>269</td>\n",
              "      <td>in the late 1990s</td>\n",
              "    </tr>\n",
              "    <tr>\n",
              "      <th>1</th>\n",
              "      <td>1</td>\n",
              "      <td>beyonc giselle knowles carter bi j nse bee yon...</td>\n",
              "      <td>What areas did Beyonce compete in when she was...</td>\n",
              "      <td>56be85543aeaaa14008c9065</td>\n",
              "      <td>207</td>\n",
              "      <td>singing and dancing</td>\n",
              "    </tr>\n",
              "    <tr>\n",
              "      <th>2</th>\n",
              "      <td>2</td>\n",
              "      <td>beyonc giselle knowles carter bi j nse bee yon...</td>\n",
              "      <td>When did Beyonce leave Destiny's Child and bec...</td>\n",
              "      <td>56be85543aeaaa14008c9066</td>\n",
              "      <td>526</td>\n",
              "      <td>2003</td>\n",
              "    </tr>\n",
              "    <tr>\n",
              "      <th>3</th>\n",
              "      <td>3</td>\n",
              "      <td>beyonc giselle knowles carter bi j nse bee yon...</td>\n",
              "      <td>In what city and state did Beyonce  grow up?</td>\n",
              "      <td>56bf6b0f3aeaaa14008c9601</td>\n",
              "      <td>166</td>\n",
              "      <td>Houston, Texas</td>\n",
              "    </tr>\n",
              "    <tr>\n",
              "      <th>4</th>\n",
              "      <td>4</td>\n",
              "      <td>beyonc giselle knowles carter bi j nse bee yon...</td>\n",
              "      <td>In which decade did Beyonce become famous?</td>\n",
              "      <td>56bf6b0f3aeaaa14008c9602</td>\n",
              "      <td>276</td>\n",
              "      <td>late 1990s</td>\n",
              "    </tr>\n",
              "  </tbody>\n",
              "</table>\n",
              "</div>\n",
              "      <button class=\"colab-df-convert\" onclick=\"convertToInteractive('df-93f50f20-0dc1-4695-b7c8-3a8c0f0a78bb')\"\n",
              "              title=\"Convert this dataframe to an interactive table.\"\n",
              "              style=\"display:none;\">\n",
              "        \n",
              "  <svg xmlns=\"http://www.w3.org/2000/svg\" height=\"24px\"viewBox=\"0 0 24 24\"\n",
              "       width=\"24px\">\n",
              "    <path d=\"M0 0h24v24H0V0z\" fill=\"none\"/>\n",
              "    <path d=\"M18.56 5.44l.94 2.06.94-2.06 2.06-.94-2.06-.94-.94-2.06-.94 2.06-2.06.94zm-11 1L8.5 8.5l.94-2.06 2.06-.94-2.06-.94L8.5 2.5l-.94 2.06-2.06.94zm10 10l.94 2.06.94-2.06 2.06-.94-2.06-.94-.94-2.06-.94 2.06-2.06.94z\"/><path d=\"M17.41 7.96l-1.37-1.37c-.4-.4-.92-.59-1.43-.59-.52 0-1.04.2-1.43.59L10.3 9.45l-7.72 7.72c-.78.78-.78 2.05 0 2.83L4 21.41c.39.39.9.59 1.41.59.51 0 1.02-.2 1.41-.59l7.78-7.78 2.81-2.81c.8-.78.8-2.07 0-2.86zM5.41 20L4 18.59l7.72-7.72 1.47 1.35L5.41 20z\"/>\n",
              "  </svg>\n",
              "      </button>\n",
              "      \n",
              "  <style>\n",
              "    .colab-df-container {\n",
              "      display:flex;\n",
              "      flex-wrap:wrap;\n",
              "      gap: 12px;\n",
              "    }\n",
              "\n",
              "    .colab-df-convert {\n",
              "      background-color: #E8F0FE;\n",
              "      border: none;\n",
              "      border-radius: 50%;\n",
              "      cursor: pointer;\n",
              "      display: none;\n",
              "      fill: #1967D2;\n",
              "      height: 32px;\n",
              "      padding: 0 0 0 0;\n",
              "      width: 32px;\n",
              "    }\n",
              "\n",
              "    .colab-df-convert:hover {\n",
              "      background-color: #E2EBFA;\n",
              "      box-shadow: 0px 1px 2px rgba(60, 64, 67, 0.3), 0px 1px 3px 1px rgba(60, 64, 67, 0.15);\n",
              "      fill: #174EA6;\n",
              "    }\n",
              "\n",
              "    [theme=dark] .colab-df-convert {\n",
              "      background-color: #3B4455;\n",
              "      fill: #D2E3FC;\n",
              "    }\n",
              "\n",
              "    [theme=dark] .colab-df-convert:hover {\n",
              "      background-color: #434B5C;\n",
              "      box-shadow: 0px 1px 3px 1px rgba(0, 0, 0, 0.15);\n",
              "      filter: drop-shadow(0px 1px 2px rgba(0, 0, 0, 0.3));\n",
              "      fill: #FFFFFF;\n",
              "    }\n",
              "  </style>\n",
              "\n",
              "      <script>\n",
              "        const buttonEl =\n",
              "          document.querySelector('#df-93f50f20-0dc1-4695-b7c8-3a8c0f0a78bb button.colab-df-convert');\n",
              "        buttonEl.style.display =\n",
              "          google.colab.kernel.accessAllowed ? 'block' : 'none';\n",
              "\n",
              "        async function convertToInteractive(key) {\n",
              "          const element = document.querySelector('#df-93f50f20-0dc1-4695-b7c8-3a8c0f0a78bb');\n",
              "          const dataTable =\n",
              "            await google.colab.kernel.invokeFunction('convertToInteractive',\n",
              "                                                     [key], {});\n",
              "          if (!dataTable) return;\n",
              "\n",
              "          const docLinkHtml = 'Like what you see? Visit the ' +\n",
              "            '<a target=\"_blank\" href=https://colab.research.google.com/notebooks/data_table.ipynb>data table notebook</a>'\n",
              "            + ' to learn more about interactive tables.';\n",
              "          element.innerHTML = '';\n",
              "          dataTable['output_type'] = 'display_data';\n",
              "          await google.colab.output.renderOutput(dataTable, element);\n",
              "          const docLink = document.createElement('div');\n",
              "          docLink.innerHTML = docLinkHtml;\n",
              "          element.appendChild(docLink);\n",
              "        }\n",
              "      </script>\n",
              "    </div>\n",
              "  </div>\n",
              "  "
            ]
          },
          "metadata": {},
          "execution_count": 10
        }
      ],
      "source": [
        "data.head()"
      ]
    },
    {
      "cell_type": "code",
      "source": [
        "import re\n",
        "import os\n",
        "from keras.utils import np_utils\n",
        "\n",
        "from keras.layers import Dense ,LSTM,concatenate,Input,Flatten\n",
        "from keras import backend as K\n",
        "from keras.utils.data_utils import get_file\n",
        "from keras.preprocessing.text import Tokenizer\n",
        "from keras_preprocessing.sequence import pad_sequences\n",
        "from keras.layers import Input, Dense, Activation, concatenate, Flatten, Reshape\n",
        "from keras.layers import LSTM, Bidirectional\n",
        "from keras.models import Model\n",
        "from keras import optimizers"
      ],
      "metadata": {
        "id": "MUXS3jI15tYP"
      },
      "execution_count": 18,
      "outputs": []
    },
    {
      "cell_type": "code",
      "source": [
        "def get_max_length(sentences):\n",
        "    max_length = 0\n",
        "    for sentence in sentences:\n",
        "        length_of_sentence = len(sentence)\n",
        "        if length_of_sentence > max_length:\n",
        "            max_length = length_of_sentence\n",
        "    return max_length"
      ],
      "metadata": {
        "id": "EapF9Ugr4-95"
      },
      "execution_count": 11,
      "outputs": []
    },
    {
      "cell_type": "code",
      "source": [
        "train_df = data.head(2000)\n",
        "documents = list(data[\"context\"])\n",
        "questions = list(data[\"question\"])\n",
        "answer_start_indexs = data[\"answer_start\"].values\n",
        "sentences = documents + questions"
      ],
      "metadata": {
        "id": "57sxTw6q4-7S"
      },
      "execution_count": 12,
      "outputs": []
    },
    {
      "cell_type": "code",
      "source": [
        "questions = data['question'].values\n",
        "answers = data['text'].values\n",
        "documents = data['context'].values"
      ],
      "metadata": {
        "id": "gtgcJpCS4-4u"
      },
      "execution_count": 13,
      "outputs": []
    },
    {
      "cell_type": "code",
      "source": [
        "data.text=data.text.astype(str)"
      ],
      "metadata": {
        "id": "LUKF-JHc6mPk"
      },
      "execution_count": 23,
      "outputs": []
    },
    {
      "cell_type": "code",
      "source": [
        "vectorized_data = []\n",
        "def vectorize(item):\n",
        "    tokenizer = Tokenizer(\n",
        "    num_words = 20000,\n",
        "    filters = '\"#$%&()*+-/:;<=>@[\\]^_`{|}~'   \n",
        ")\n",
        "        \n",
        "    documents = list(item[\"context\"])\n",
        "    questions = list(item[\"question\"])\n",
        "    answers = list(item['text'])\n",
        "    start_index = list(item['answer_start'])\n",
        "    sentences = documents + questions\n",
        "    \n",
        "    tokenizer.fit_on_texts(sentences)\n",
        "    questions_tokenized = tokenizer.texts_to_sequences(questions)\n",
        "    answers_tokenized = tokenizer.texts_to_sequences(answers)\n",
        "    documents_tokenized = tokenizer.texts_to_sequences(documents)\n",
        "    \n",
        "    questions_padded = pad_sequences(questions_tokenized, maxlen = 80, padding = 'post')\n",
        "    answers_padded = pad_sequences(answers_tokenized, maxlen = 1405, padding = 'post')\n",
        "    documents_padded = pad_sequences(documents_tokenized, maxlen = 1405, padding = 'post')\n",
        "    for i in range(0, len(documents)):\n",
        "        vectorized_data.append([questions_padded[i], answers_padded[i], documents_padded[i], start_index[i]])\n",
        "    \n",
        "data.groupby('context').apply(vectorize)\n",
        "vectorized_data = pd.DataFrame(vectorized_data)\n",
        "vectorized_data.rename(columns = {0: 'question_vector', 1: 'answers_vector', 2: 'documents_vector', 3: 'answer_start_indexs'},inplace = True)"
      ],
      "metadata": {
        "id": "PZlQK2835fo0"
      },
      "execution_count": 24,
      "outputs": []
    },
    {
      "cell_type": "code",
      "source": [
        "vectorized_data.head()"
      ],
      "metadata": {
        "colab": {
          "base_uri": "https://localhost:8080/",
          "height": 206
        },
        "id": "r4lmoYHm6JoT",
        "outputId": "0c7be0a8-3a7d-4c86-d09a-cc6b972e430e"
      },
      "execution_count": 25,
      "outputs": [
        {
          "output_type": "execute_result",
          "data": {
            "text/plain": [
              "                                     question_vector  \\\n",
              "0  [61, 62, 63, 64, 65, 66, 10, 67, 0, 0, 0, 0, 0...   \n",
              "1  [68, 69, 12, 13, 14, 60, 70, 0, 0, 0, 0, 0, 0,...   \n",
              "2  [61, 15, 1, 62, 10, 71, 2, 60, 72, 0, 0, 0, 0,...   \n",
              "3  [73, 60, 3, 1, 74, 75, 11, 76, 77, 0, 0, 0, 0,...   \n",
              "4  [53, 57, 12, 52, 1, 54, 58, 59, 60, 0, 0, 0, 0...   \n",
              "\n",
              "                                      answers_vector  \\\n",
              "0  [18, 0, 0, 0, 0, 0, 0, 0, 0, 0, 0, 0, 0, 0, 0,...   \n",
              "1  [49, 0, 0, 0, 0, 0, 0, 0, 0, 0, 0, 0, 0, 0, 0,...   \n",
              "2  [55, 1, 0, 0, 0, 0, 0, 0, 0, 0, 0, 0, 0, 0, 0,...   \n",
              "3  [27, 6, 0, 0, 0, 0, 0, 0, 0, 0, 0, 0, 0, 0, 0,...   \n",
              "4  [19, 20, 12, 0, 0, 0, 0, 0, 0, 0, 0, 0, 0, 0, ...   \n",
              "\n",
              "                                    documents_vector  answer_start_indexs  \n",
              "0  [16, 17, 18, 10, 2, 19, 20, 4, 21, 22, 23, 5, ...                    0  \n",
              "1  [16, 17, 18, 10, 2, 19, 20, 4, 21, 22, 23, 5, ...                  415  \n",
              "2  [16, 17, 18, 10, 2, 19, 20, 4, 21, 22, 23, 5, ...                  505  \n",
              "3  [16, 17, 18, 10, 2, 19, 20, 4, 21, 22, 23, 5, ...                  146  \n",
              "4  [5, 18, 19, 20, 12, 1, 21, 22, 6, 2, 13, 23, 2...                    6  "
            ],
            "text/html": [
              "\n",
              "  <div id=\"df-be5dd333-7699-470a-a3fa-32567a07ee9e\">\n",
              "    <div class=\"colab-df-container\">\n",
              "      <div>\n",
              "<style scoped>\n",
              "    .dataframe tbody tr th:only-of-type {\n",
              "        vertical-align: middle;\n",
              "    }\n",
              "\n",
              "    .dataframe tbody tr th {\n",
              "        vertical-align: top;\n",
              "    }\n",
              "\n",
              "    .dataframe thead th {\n",
              "        text-align: right;\n",
              "    }\n",
              "</style>\n",
              "<table border=\"1\" class=\"dataframe\">\n",
              "  <thead>\n",
              "    <tr style=\"text-align: right;\">\n",
              "      <th></th>\n",
              "      <th>question_vector</th>\n",
              "      <th>answers_vector</th>\n",
              "      <th>documents_vector</th>\n",
              "      <th>answer_start_indexs</th>\n",
              "    </tr>\n",
              "  </thead>\n",
              "  <tbody>\n",
              "    <tr>\n",
              "      <th>0</th>\n",
              "      <td>[61, 62, 63, 64, 65, 66, 10, 67, 0, 0, 0, 0, 0...</td>\n",
              "      <td>[18, 0, 0, 0, 0, 0, 0, 0, 0, 0, 0, 0, 0, 0, 0,...</td>\n",
              "      <td>[16, 17, 18, 10, 2, 19, 20, 4, 21, 22, 23, 5, ...</td>\n",
              "      <td>0</td>\n",
              "    </tr>\n",
              "    <tr>\n",
              "      <th>1</th>\n",
              "      <td>[68, 69, 12, 13, 14, 60, 70, 0, 0, 0, 0, 0, 0,...</td>\n",
              "      <td>[49, 0, 0, 0, 0, 0, 0, 0, 0, 0, 0, 0, 0, 0, 0,...</td>\n",
              "      <td>[16, 17, 18, 10, 2, 19, 20, 4, 21, 22, 23, 5, ...</td>\n",
              "      <td>415</td>\n",
              "    </tr>\n",
              "    <tr>\n",
              "      <th>2</th>\n",
              "      <td>[61, 15, 1, 62, 10, 71, 2, 60, 72, 0, 0, 0, 0,...</td>\n",
              "      <td>[55, 1, 0, 0, 0, 0, 0, 0, 0, 0, 0, 0, 0, 0, 0,...</td>\n",
              "      <td>[16, 17, 18, 10, 2, 19, 20, 4, 21, 22, 23, 5, ...</td>\n",
              "      <td>505</td>\n",
              "    </tr>\n",
              "    <tr>\n",
              "      <th>3</th>\n",
              "      <td>[73, 60, 3, 1, 74, 75, 11, 76, 77, 0, 0, 0, 0,...</td>\n",
              "      <td>[27, 6, 0, 0, 0, 0, 0, 0, 0, 0, 0, 0, 0, 0, 0,...</td>\n",
              "      <td>[16, 17, 18, 10, 2, 19, 20, 4, 21, 22, 23, 5, ...</td>\n",
              "      <td>146</td>\n",
              "    </tr>\n",
              "    <tr>\n",
              "      <th>4</th>\n",
              "      <td>[53, 57, 12, 52, 1, 54, 58, 59, 60, 0, 0, 0, 0...</td>\n",
              "      <td>[19, 20, 12, 0, 0, 0, 0, 0, 0, 0, 0, 0, 0, 0, ...</td>\n",
              "      <td>[5, 18, 19, 20, 12, 1, 21, 22, 6, 2, 13, 23, 2...</td>\n",
              "      <td>6</td>\n",
              "    </tr>\n",
              "  </tbody>\n",
              "</table>\n",
              "</div>\n",
              "      <button class=\"colab-df-convert\" onclick=\"convertToInteractive('df-be5dd333-7699-470a-a3fa-32567a07ee9e')\"\n",
              "              title=\"Convert this dataframe to an interactive table.\"\n",
              "              style=\"display:none;\">\n",
              "        \n",
              "  <svg xmlns=\"http://www.w3.org/2000/svg\" height=\"24px\"viewBox=\"0 0 24 24\"\n",
              "       width=\"24px\">\n",
              "    <path d=\"M0 0h24v24H0V0z\" fill=\"none\"/>\n",
              "    <path d=\"M18.56 5.44l.94 2.06.94-2.06 2.06-.94-2.06-.94-.94-2.06-.94 2.06-2.06.94zm-11 1L8.5 8.5l.94-2.06 2.06-.94-2.06-.94L8.5 2.5l-.94 2.06-2.06.94zm10 10l.94 2.06.94-2.06 2.06-.94-2.06-.94-.94-2.06-.94 2.06-2.06.94z\"/><path d=\"M17.41 7.96l-1.37-1.37c-.4-.4-.92-.59-1.43-.59-.52 0-1.04.2-1.43.59L10.3 9.45l-7.72 7.72c-.78.78-.78 2.05 0 2.83L4 21.41c.39.39.9.59 1.41.59.51 0 1.02-.2 1.41-.59l7.78-7.78 2.81-2.81c.8-.78.8-2.07 0-2.86zM5.41 20L4 18.59l7.72-7.72 1.47 1.35L5.41 20z\"/>\n",
              "  </svg>\n",
              "      </button>\n",
              "      \n",
              "  <style>\n",
              "    .colab-df-container {\n",
              "      display:flex;\n",
              "      flex-wrap:wrap;\n",
              "      gap: 12px;\n",
              "    }\n",
              "\n",
              "    .colab-df-convert {\n",
              "      background-color: #E8F0FE;\n",
              "      border: none;\n",
              "      border-radius: 50%;\n",
              "      cursor: pointer;\n",
              "      display: none;\n",
              "      fill: #1967D2;\n",
              "      height: 32px;\n",
              "      padding: 0 0 0 0;\n",
              "      width: 32px;\n",
              "    }\n",
              "\n",
              "    .colab-df-convert:hover {\n",
              "      background-color: #E2EBFA;\n",
              "      box-shadow: 0px 1px 2px rgba(60, 64, 67, 0.3), 0px 1px 3px 1px rgba(60, 64, 67, 0.15);\n",
              "      fill: #174EA6;\n",
              "    }\n",
              "\n",
              "    [theme=dark] .colab-df-convert {\n",
              "      background-color: #3B4455;\n",
              "      fill: #D2E3FC;\n",
              "    }\n",
              "\n",
              "    [theme=dark] .colab-df-convert:hover {\n",
              "      background-color: #434B5C;\n",
              "      box-shadow: 0px 1px 3px 1px rgba(0, 0, 0, 0.15);\n",
              "      filter: drop-shadow(0px 1px 2px rgba(0, 0, 0, 0.3));\n",
              "      fill: #FFFFFF;\n",
              "    }\n",
              "  </style>\n",
              "\n",
              "      <script>\n",
              "        const buttonEl =\n",
              "          document.querySelector('#df-be5dd333-7699-470a-a3fa-32567a07ee9e button.colab-df-convert');\n",
              "        buttonEl.style.display =\n",
              "          google.colab.kernel.accessAllowed ? 'block' : 'none';\n",
              "\n",
              "        async function convertToInteractive(key) {\n",
              "          const element = document.querySelector('#df-be5dd333-7699-470a-a3fa-32567a07ee9e');\n",
              "          const dataTable =\n",
              "            await google.colab.kernel.invokeFunction('convertToInteractive',\n",
              "                                                     [key], {});\n",
              "          if (!dataTable) return;\n",
              "\n",
              "          const docLinkHtml = 'Like what you see? Visit the ' +\n",
              "            '<a target=\"_blank\" href=https://colab.research.google.com/notebooks/data_table.ipynb>data table notebook</a>'\n",
              "            + ' to learn more about interactive tables.';\n",
              "          element.innerHTML = '';\n",
              "          dataTable['output_type'] = 'display_data';\n",
              "          await google.colab.output.renderOutput(dataTable, element);\n",
              "          const docLink = document.createElement('div');\n",
              "          docLink.innerHTML = docLinkHtml;\n",
              "          element.appendChild(docLink);\n",
              "        }\n",
              "      </script>\n",
              "    </div>\n",
              "  </div>\n",
              "  "
            ]
          },
          "metadata": {},
          "execution_count": 25
        }
      ]
    },
    {
      "cell_type": "code",
      "source": [
        "from keras.layers import Embedding\n",
        "from keras.models import Sequential"
      ],
      "metadata": {
        "id": "7Mq5AhjR7EsR"
      },
      "execution_count": 49,
      "outputs": []
    },
    {
      "cell_type": "code",
      "source": [
        "question_input = Input(shape=(80,), dtype='int32', name='question_input')\n",
        "context_input =  Input(shape=(1405,), dtype='int32', name='context_input')\n",
        "\n",
        "questionEmbd = Embedding(output_dim=100, input_dim=20000,mask_zero=False, input_length=80, trainable=False)(question_input)\n",
        "\n",
        "contextEmb = Embedding(output_dim=100, input_dim=20000,mask_zero=False,input_length=1405, trainable=False)(context_input)"
      ],
      "metadata": {
        "id": "sWq07XA5649T"
      },
      "execution_count": 28,
      "outputs": []
    },
    {
      "cell_type": "code",
      "source": [
        "Q = Bidirectional(LSTM(80, return_sequences=True))(questionEmbd)\n",
        "D = Bidirectional(LSTM(40, return_sequences=True))(contextEmb)\n",
        "Q_flatten = Flatten()(Q)\n",
        "D_flatten = Flatten()(D)\n",
        "merged = concatenate([D_flatten, Q_flatten])"
      ],
      "metadata": {
        "id": "NZ01wBiU7Rfv"
      },
      "execution_count": 29,
      "outputs": []
    },
    {
      "cell_type": "code",
      "source": [
        "model = Sequential()"
      ],
      "metadata": {
        "id": "EnM83zVh-Iry"
      },
      "execution_count": 50,
      "outputs": []
    },
    {
      "cell_type": "code",
      "source": [
        "output1 = Dense(1,activation='sigmoid')(merged)\n",
        "l2_merged = concatenate([merged, output1])\n",
        "output2 = Dense(1,activation='sigmoid')(l2_merged)\n",
        "\n",
        "model = Model([question_input,context_input],[output1,output2])\n",
        "model.compile(optimizer='adam', loss='mse', metrics=['mse'])\n",
        "model.summary()"
      ],
      "metadata": {
        "colab": {
          "base_uri": "https://localhost:8080/"
        },
        "id": "0gNHnwIN7Usg",
        "outputId": "b19fa7c0-2a96-488e-840d-8452dff6aa01"
      },
      "execution_count": 52,
      "outputs": [
        {
          "output_type": "stream",
          "name": "stdout",
          "text": [
            "Model: \"model_1\"\n",
            "__________________________________________________________________________________________________\n",
            " Layer (type)                   Output Shape         Param #     Connected to                     \n",
            "==================================================================================================\n",
            " context_input (InputLayer)     [(None, 1405)]       0           []                               \n",
            "                                                                                                  \n",
            " question_input (InputLayer)    [(None, 80)]         0           []                               \n",
            "                                                                                                  \n",
            " embedding_1 (Embedding)        (None, 1405, 100)    2000000     ['context_input[0][0]']          \n",
            "                                                                                                  \n",
            " embedding (Embedding)          (None, 80, 100)      2000000     ['question_input[0][0]']         \n",
            "                                                                                                  \n",
            " bidirectional_1 (Bidirectional  (None, 1405, 80)    45120       ['embedding_1[0][0]']            \n",
            " )                                                                                                \n",
            "                                                                                                  \n",
            " bidirectional (Bidirectional)  (None, 80, 160)      115840      ['embedding[0][0]']              \n",
            "                                                                                                  \n",
            " flatten_1 (Flatten)            (None, 112400)       0           ['bidirectional_1[0][0]']        \n",
            "                                                                                                  \n",
            " flatten (Flatten)              (None, 12800)        0           ['bidirectional[0][0]']          \n",
            "                                                                                                  \n",
            " concatenate (Concatenate)      (None, 125200)       0           ['flatten_1[0][0]',              \n",
            "                                                                  'flatten[0][0]']                \n",
            "                                                                                                  \n",
            " dense_12 (Dense)               (None, 1)            125201      ['concatenate[0][0]']            \n",
            "                                                                                                  \n",
            " concatenate_7 (Concatenate)    (None, 125201)       0           ['concatenate[0][0]',            \n",
            "                                                                  'dense_12[0][0]']               \n",
            "                                                                                                  \n",
            " dense_13 (Dense)               (None, 1)            125202      ['concatenate_7[0][0]']          \n",
            "                                                                                                  \n",
            "==================================================================================================\n",
            "Total params: 4,411,363\n",
            "Trainable params: 411,363\n",
            "Non-trainable params: 4,000,000\n",
            "__________________________________________________________________________________________________\n"
          ]
        }
      ]
    },
    {
      "cell_type": "code",
      "source": [
        "questions_padded = np.array(vectorized_data['question_vector'].values.tolist())\n",
        "documents_padded = np.array(vectorized_data['documents_vector'].values.tolist())\n",
        "answer_begin = np.array(vectorized_data['answers_vector'].values.tolist())\n",
        "answer_start_indexs = np.array(vectorized_data['answer_start_indexs'].values.tolist())"
      ],
      "metadata": {
        "id": "1V_HckGm7YcR"
      },
      "execution_count": 37,
      "outputs": []
    },
    {
      "cell_type": "code",
      "source": [
        "history = model.fit([questions_padded, documents_padded],[answer_begin, answer_start_indexs] ,epochs=10,batch_size=300)"
      ],
      "metadata": {
        "colab": {
          "base_uri": "https://localhost:8080/"
        },
        "id": "A7X6Jtr58S2F",
        "outputId": "d40ee616-3d24-4c0c-bf8b-ab2e44f1c733"
      },
      "execution_count": 53,
      "outputs": [
        {
          "output_type": "stream",
          "name": "stdout",
          "text": [
            "Epoch 1/10\n",
            "290/290 [==============================] - 1302s 4s/step - loss: 172604.9531 - dense_12_loss: 3.1029 - dense_13_loss: 172601.8281 - dense_12_mse: 3.1029 - dense_13_mse: 172601.8281\n",
            "Epoch 2/10\n",
            "290/290 [==============================] - 1283s 4s/step - loss: 172603.6094 - dense_12_loss: 3.1022 - dense_13_loss: 172600.5312 - dense_12_mse: 3.1022 - dense_13_mse: 172600.5312\n",
            "Epoch 3/10\n",
            "290/290 [==============================] - 1296s 4s/step - loss: 172603.5938 - dense_12_loss: 3.1022 - dense_13_loss: 172600.5312 - dense_12_mse: 3.1022 - dense_13_mse: 172600.5312\n",
            "Epoch 4/10\n",
            "290/290 [==============================] - 1271s 4s/step - loss: 172603.6250 - dense_12_loss: 3.1022 - dense_13_loss: 172600.5781 - dense_12_mse: 3.1022 - dense_13_mse: 172600.5781\n",
            "Epoch 5/10\n",
            "290/290 [==============================] - 1256s 4s/step - loss: 172603.5938 - dense_12_loss: 3.1022 - dense_13_loss: 172600.5781 - dense_12_mse: 3.1022 - dense_13_mse: 172600.5781\n",
            "Epoch 6/10\n",
            "290/290 [==============================] - 1287s 4s/step - loss: 172603.5938 - dense_12_loss: 3.1022 - dense_13_loss: 172600.4531 - dense_12_mse: 3.1022 - dense_13_mse: 172600.4531\n",
            "Epoch 7/10\n",
            "290/290 [==============================] - 1294s 4s/step - loss: 172603.6250 - dense_12_loss: 3.1022 - dense_13_loss: 172600.5312 - dense_12_mse: 3.1022 - dense_13_mse: 172600.5312\n",
            "Epoch 8/10\n",
            "290/290 [==============================] - 1283s 4s/step - loss: 172603.5469 - dense_12_loss: 3.1022 - dense_13_loss: 172600.5312 - dense_12_mse: 3.1022 - dense_13_mse: 172600.5312\n",
            "Epoch 9/10\n",
            "290/290 [==============================] - 1278s 4s/step - loss: 172603.5938 - dense_12_loss: 3.1022 - dense_13_loss: 172600.5000 - dense_12_mse: 3.1022 - dense_13_mse: 172600.5000\n",
            "Epoch 10/10\n",
            "290/290 [==============================] - 1266s 4s/step - loss: 172603.6094 - dense_12_loss: 3.1022 - dense_13_loss: 172600.5625 - dense_12_mse: 3.1022 - dense_13_mse: 172600.5625\n"
          ]
        }
      ]
    },
    {
      "cell_type": "code",
      "source": [
        "accr = model.evaluate([questions_padded, documents_padded],[answer_begin, answer_start_indexs])"
      ],
      "metadata": {
        "colab": {
          "base_uri": "https://localhost:8080/"
        },
        "id": "cvQmtHY88Zu6",
        "outputId": "9ec67298-58f5-4faf-f9c3-c4cfbab6ad5c"
      },
      "execution_count": 54,
      "outputs": [
        {
          "output_type": "stream",
          "name": "stdout",
          "text": [
            "2714/2714 [==============================] - 613s 225ms/step - loss: 172603.7812 - dense_12_loss: 3.1022 - dense_13_loss: 172600.4375 - dense_12_mse: 3.1022 - dense_13_mse: 172600.4375\n"
          ]
        }
      ]
    },
    {
      "cell_type": "code",
      "source": [
        "print('Loss:',accr[1])\n",
        "print('Accuracy:',accr[0])"
      ],
      "metadata": {
        "colab": {
          "base_uri": "https://localhost:8080/"
        },
        "id": "dG1Kw81cvghq",
        "outputId": "7c2a4d05-2f4f-4374-e274-4fe6a3f554b9"
      },
      "execution_count": 58,
      "outputs": [
        {
          "output_type": "stream",
          "name": "stdout",
          "text": [
            "Loss: 3.1021995544433594\n",
            "Accuracy: 96.89780044555664\n"
          ]
        }
      ]
    },
    {
      "cell_type": "code",
      "source": [],
      "metadata": {
        "id": "zWGjUzH-x4OW"
      },
      "execution_count": null,
      "outputs": []
    }
  ],
  "metadata": {
    "colab": {
      "provenance": [],
      "authorship_tag": "ABX9TyMbpDfY3brdqM44uypWdX2f",
      "include_colab_link": true
    },
    "kernelspec": {
      "display_name": "Python 3",
      "name": "python3"
    },
    "language_info": {
      "name": "python"
    }
  },
  "nbformat": 4,
  "nbformat_minor": 0
}